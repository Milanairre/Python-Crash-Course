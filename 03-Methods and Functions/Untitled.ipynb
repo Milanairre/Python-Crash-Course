{
 "cells": [
  {
   "cell_type": "code",
   "execution_count": 108,
   "metadata": {},
   "outputs": [],
   "source": [
    "def less_of_evens(a,b):\n",
    "    \n",
    "    if a%2 ==0 and b%2 ==0:\n",
    "        #both numbers are even\n",
    "        if a < b:\n",
    "            result = a\n",
    "        else:\n",
    "            result = b    \n",
    "    else:\n",
    "        #both or one number is odd\n",
    "        if a > b:\n",
    "            result = a\n",
    "        else:\n",
    "            result = b\n",
    "         \n",
    "    return result\n",
    "        \n",
    "    "
   ]
  },
  {
   "cell_type": "code",
   "execution_count": 109,
   "metadata": {},
   "outputs": [
    {
     "data": {
      "text/plain": [
       "4"
      ]
     },
     "execution_count": 109,
     "metadata": {},
     "output_type": "execute_result"
    }
   ],
   "source": [
    "#check\n",
    "less_of_evens(3,4)"
   ]
  },
  {
   "cell_type": "code",
   "execution_count": 116,
   "metadata": {},
   "outputs": [],
   "source": [
    "def evenN(a,b):\n",
    "    \n",
    "    if a%2 == 0 and b%2 == 0:\n",
    "        if a < b:\n",
    "            result = a\n",
    "        else:\n",
    "            result = b   \n",
    "    else:\n",
    "        if a > b:\n",
    "            result = a \n",
    "        else:\n",
    "            result = b\n",
    "    \n",
    "    return result\n",
    "     "
   ]
  },
  {
   "cell_type": "code",
   "execution_count": 132,
   "metadata": {},
   "outputs": [
    {
     "name": "stdout",
     "output_type": "stream",
     "text": [
      "b is smaller value = 4 which is less than5\n"
     ]
    }
   ],
   "source": [
    "a= 5\n",
    "b= 4\n",
    "if a < b:\n",
    "    print ('a is smaller value = ' + str( a) + ' which is less than ' + str(b))\n",
    "else:\n",
    "    print ('b is smaller value = ' + str( b) + ' which is less than ' + str(a))"
   ]
  },
  {
   "cell_type": "code",
   "execution_count": null,
   "metadata": {},
   "outputs": [],
   "source": []
  },
  {
   "cell_type": "code",
   "execution_count": null,
   "metadata": {},
   "outputs": [],
   "source": []
  }
 ],
 "metadata": {
  "kernelspec": {
   "display_name": "Python 3",
   "language": "python",
   "name": "python3"
  },
  "language_info": {
   "codemirror_mode": {
    "name": "ipython",
    "version": 3
   },
   "file_extension": ".py",
   "mimetype": "text/x-python",
   "name": "python",
   "nbconvert_exporter": "python",
   "pygments_lexer": "ipython3",
   "version": "3.7.1"
  }
 },
 "nbformat": 4,
 "nbformat_minor": 2
}
